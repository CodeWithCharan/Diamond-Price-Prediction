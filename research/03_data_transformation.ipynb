{
 "cells": [
  {
   "cell_type": "code",
   "execution_count": 1,
   "metadata": {},
   "outputs": [
    {
     "data": {
      "text/plain": [
       "'c:\\\\Users\\\\91889\\\\OneDrive\\\\Desktop\\\\Diamond-Price-Prediction\\\\research'"
      ]
     },
     "execution_count": 1,
     "metadata": {},
     "output_type": "execute_result"
    }
   ],
   "source": [
    "%pwd"
   ]
  },
  {
   "cell_type": "code",
   "execution_count": 2,
   "metadata": {},
   "outputs": [
    {
     "data": {
      "text/plain": [
       "'c:\\\\Users\\\\91889\\\\OneDrive\\\\Desktop\\\\Diamond-Price-Prediction'"
      ]
     },
     "execution_count": 2,
     "metadata": {},
     "output_type": "execute_result"
    }
   ],
   "source": [
    "import os\n",
    "\n",
    "os.chdir(\"../\")\n",
    "\n",
    "%pwd"
   ]
  },
  {
   "cell_type": "markdown",
   "metadata": {},
   "source": [
    "### Config Entity"
   ]
  },
  {
   "cell_type": "code",
   "execution_count": 3,
   "metadata": {},
   "outputs": [],
   "source": [
    "from dataclasses import dataclass\n",
    "from pathlib import Path\n",
    "\n",
    "# Data Transformation\n",
    "@dataclass(frozen=True)\n",
    "class DataTransformationConfig:\n",
    "    root_dir: Path\n",
    "    data_path: Path\n",
    "    target_column: str"
   ]
  },
  {
   "cell_type": "markdown",
   "metadata": {},
   "source": [
    "### Configuration Manager"
   ]
  },
  {
   "cell_type": "code",
   "execution_count": 4,
   "metadata": {},
   "outputs": [],
   "source": [
    "from mlProject.constants import *\n",
    "from mlProject.utils.common import read_yaml, create_directories"
   ]
  },
  {
   "cell_type": "code",
   "execution_count": 5,
   "metadata": {},
   "outputs": [],
   "source": [
    "class ConfigurationManager:\n",
    "    def __init__(\n",
    "        self,\n",
    "        config_filepath = CONFIG_FILE_PATH,\n",
    "        params_filepath = PARAMS_FILE_PATH,\n",
    "        schema_filepath = SCHEMA_FILE_PATH):\n",
    "\n",
    "        self.config = read_yaml(config_filepath)\n",
    "        self.params = read_yaml(params_filepath)\n",
    "        self.schema = read_yaml(schema_filepath)\n",
    "\n",
    "        create_directories([self.config.artifacts_root])\n",
    "\n",
    "    def get_data_transformation_config(self) -> DataTransformationConfig:\n",
    "        config = self.config.data_transformation\n",
    "        schema = self.schema.TARGET\n",
    "\n",
    "        create_directories([config.root_dir])\n",
    "\n",
    "        data_transformation_config = DataTransformationConfig(\n",
    "            root_dir = config.root_dir,\n",
    "            data_path = config.data_path,\n",
    "            target_column = schema.name\n",
    "        )\n",
    "        \n",
    "        return data_transformation_config"
   ]
  },
  {
   "cell_type": "markdown",
   "metadata": {},
   "source": [
    "### Components - Data Transformation"
   ]
  },
  {
   "cell_type": "markdown",
   "metadata": {},
   "source": [
    "**Methods:**\n",
    "- Outliers method\n",
    "- Segregate method (Input and output)\n",
    "- Train, Test and Split method.\n",
    "- Transformation method (Standard Scalar, Ordinal Encoder)\n",
    "\n",
    "`Note:` According to experiements, there are no missing values in the dataset. So, there is no need of Missing values method."
   ]
  },
  {
   "cell_type": "code",
   "execution_count": 6,
   "metadata": {},
   "outputs": [],
   "source": [
    "import os\n",
    "from mlProject import logger\n",
    "\n",
    "import pandas as pd\n",
    "from sklearn.model_selection import train_test_split\n",
    "\n",
    "# for numerical data\n",
    "from sklearn.preprocessing import StandardScaler\n",
    "\n",
    "# for categorical data\n",
    "from sklearn.preprocessing import OrdinalEncoder"
   ]
  },
  {
   "cell_type": "code",
   "execution_count": 7,
   "metadata": {},
   "outputs": [],
   "source": [
    "class DataTransformation:\n",
    "    def __init__(self, config: DataTransformationConfig):\n",
    "        self.config = config\n",
    "\n",
    "    # outlier handling method\n",
    "    def remove_outliers(self):\n",
    "        df = pd.read_csv(self.config.data_path)\n",
    "\n",
    "        # acc to experiments, these are the outliers\n",
    "        df = df.loc[df['x'] > 3]\n",
    "        df = df.loc[df['y'] < 15]\n",
    "        df = df.loc[df['z'] < 10]\n",
    "        df = df.loc[df['z'] > 2]\n",
    "\n",
    "        return df\n",
    "    \n",
    "    # Segregate method\n",
    "    def data_segregation(self):\n",
    "        df = self.remove_outliers()\n",
    "\n",
    "        # inputs (x)\n",
    "        X = df.drop([self.config.target_column], axis=1)\n",
    "\n",
    "        # output (y)\n",
    "        y = df[[self.config.target_column]]\n",
    "\n",
    "        return X, y\n",
    "    \n",
    "    # train test split method\n",
    "    def get_train_test_split(self):\n",
    "        X, y = self.data_segregation()\n",
    "\n",
    "        X_train, X_test, y_train, y_test = train_test_split(X, y, test_size=0.25, random_state=0)\n",
    "\n",
    "        return X_train, X_test, y_train, y_test\n",
    "    \n",
    "    # Transformation method\n",
    "    def get_transformed(self):\n",
    "        X_train, X_test, y_train, y_test = self.get_train_test_split()\n",
    "\n",
    "        # diamond quality, low to high (ordinals)\n",
    "        cut_categories = ['Fair', 'Good', 'Very Good', 'Premium', 'Ideal']\n",
    "        color_categories = ['J', 'I', 'H', 'G', 'F', 'E', 'D']\n",
    "        clarity_categories = ['I1', 'SI2', 'SI1', 'VS2', 'VS1', 'VVS2', 'VVS1', 'IF']\n",
    "        \n",
    "        # adjust Scaler and Encoder\n",
    "        std_scaler = StandardScaler()\n",
    "        ordinal_encoder = OrdinalEncoder(categories=[cut_categories, color_categories, clarity_categories],  \n",
    "                                 handle_unknown=\"use_encoded_value\",\n",
    "                                 unknown_value=-1, \n",
    "                                 encoded_missing_value=-5)\n",
    "        \n",
    "        # train transformation\n",
    "        X_train_num = X_train.select_dtypes(include=['int64', 'float64'])\n",
    "        X_train_cat = X_train.select_dtypes(include=['object'])\n",
    "\n",
    "        X_train_num_transformed = pd.DataFrame(std_scaler.fit_transform(X_train_num),\n",
    "                                      columns = std_scaler.get_feature_names_out(),\n",
    "                                      index = X_train_num.index)\n",
    "        \n",
    "        X_train_cat_transformed = pd.DataFrame(ordinal_encoder.fit_transform(X_train_cat),\n",
    "                                      columns = ordinal_encoder.get_feature_names_out(),\n",
    "                                      index = X_train_cat.index)\n",
    "        \n",
    "        # Concatenate\n",
    "        X_train_transformed = pd.concat([X_train_num_transformed, X_train_cat_transformed], axis=1)\n",
    "\n",
    "        # test transformation\n",
    "        X_test_num = X_test.select_dtypes(include=['int64', 'float64'])\n",
    "        X_test_cat = X_test.select_dtypes(include=['object'])\n",
    "\n",
    "        X_test_num_transformed = pd.DataFrame(std_scaler.transform(X_test_num), \n",
    "                                   columns = std_scaler.get_feature_names_out(), \n",
    "                                   index = X_test_num.index)\n",
    "\n",
    "        X_test_cat_transformed = pd.DataFrame(ordinal_encoder.transform(X_test_cat), \n",
    "                                   columns = ordinal_encoder.get_feature_names_out(), \n",
    "                                   index = X_test_cat.index)\n",
    "        \n",
    "        # Concatenate\n",
    "        X_test_transformed = pd.concat([X_test_num_transformed, X_test_cat_transformed], axis=1)\n",
    "\n",
    "        # save csv\n",
    "        X_train_transformed.to_csv(os.path.join(self.config.root_dir, \"X_train_transformed.csv\"), index=False)\n",
    "        y_train.to_csv(os.path.join(self.config.root_dir, \"y_train.csv\"), index=False)\n",
    "\n",
    "        X_test_transformed.to_csv(os.path.join(self.config.root_dir, \"X_test_transformed.csv\"), index=False)\n",
    "        y_test.to_csv(os.path.join(self.config.root_dir, \"y_test.csv\"), index=False)\n",
    "\n",
    "        logger.info(f\"X train transformed size: {X_train_transformed.shape}, y train size:{y_train.shape}\")\n",
    "        logger.info(f\"X test transformed size: {X_test_transformed.shape}, y test size: {y_test.shape}\")"
   ]
  },
  {
   "cell_type": "markdown",
   "metadata": {},
   "source": [
    "### Pipeline"
   ]
  },
  {
   "cell_type": "code",
   "execution_count": 8,
   "metadata": {},
   "outputs": [
    {
     "name": "stdout",
     "output_type": "stream",
     "text": [
      "[2024-10-20 15:40:52,144: INFO: common: yaml file: config\\config.yaml loaded successfully]\n",
      "[2024-10-20 15:40:52,150: INFO: common: yaml file: params.yaml loaded successfully]\n",
      "[2024-10-20 15:40:52,154: INFO: common: yaml file: schema.yaml loaded successfully]\n",
      "[2024-10-20 15:40:52,156: INFO: common: created directory at: artifacts]\n",
      "[2024-10-20 15:40:52,158: INFO: common: created directory at: artifacts/data_transformation]\n",
      "[2024-10-20 15:40:53,136: INFO: 4146980770: X train transformed size: (40435, 9), y train size:(40435, 1)]\n",
      "[2024-10-20 15:40:53,138: INFO: 4146980770: X test transformed size: (13479, 9), y test size: (13479, 1)]\n"
     ]
    }
   ],
   "source": [
    "try:\n",
    "    config = ConfigurationManager()\n",
    "    data_transformation_config = config.get_data_transformation_config()\n",
    "    data_transformation = DataTransformation(config=data_transformation_config)\n",
    "\n",
    "    data_transformation.remove_outliers()\n",
    "    data_transformation.data_segregation()\n",
    "    data_transformation.get_train_test_split()\n",
    "    data_transformation.get_transformed()\n",
    "\n",
    "except Exception as e:\n",
    "    raise e"
   ]
  },
  {
   "cell_type": "code",
   "execution_count": null,
   "metadata": {},
   "outputs": [],
   "source": []
  }
 ],
 "metadata": {
  "kernelspec": {
   "display_name": "DPPenv",
   "language": "python",
   "name": "python3"
  },
  "language_info": {
   "codemirror_mode": {
    "name": "ipython",
    "version": 3
   },
   "file_extension": ".py",
   "mimetype": "text/x-python",
   "name": "python",
   "nbconvert_exporter": "python",
   "pygments_lexer": "ipython3",
   "version": "3.8.20"
  }
 },
 "nbformat": 4,
 "nbformat_minor": 2
}
